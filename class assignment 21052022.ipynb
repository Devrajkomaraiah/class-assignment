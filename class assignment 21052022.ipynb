{
 "cells": [
  {
   "cell_type": "markdown",
   "id": "9456757f",
   "metadata": {},
   "source": [
    "l = [3,4,5,6,7 , [23,456,67,8,78,78] , [345,56,87,8,98,9] , (234,6657,6) , {\"key1\" :\"sudh\" , 234:[23,45,656]}]\n",
    "\n",
    "1 . Try to reverse a list \n",
    "\n",
    "2. try to access 234 out of this list \n",
    "\n",
    "3 . try to access 456 \n",
    "\n",
    "4 . Try to extract only a list collection form list l \n",
    "\n",
    "5 . Try to extract \"sudh\"\n",
    "\n",
    "6 . Try to list all the key in dict element avaible in list \n",
    "\n",
    "7 . Try to extract all the value element form dict available in list "
   ]
  },
  {
   "cell_type": "code",
   "execution_count": 1,
   "id": "5a0fd97d",
   "metadata": {},
   "outputs": [],
   "source": [
    "l = [3,4,5,6,7 , [23,456,67,8,78,78] , [345,56,87,8,98,9] , (234,6657,6) , {\"key1\" :\"sudh\" , 234:[23,45,656]}]"
   ]
  },
  {
   "cell_type": "markdown",
   "id": "e1688e43",
   "metadata": {},
   "source": [
    "1 . Try to reverse a list"
   ]
  },
  {
   "cell_type": "code",
   "execution_count": 15,
   "id": "b264e658",
   "metadata": {},
   "outputs": [
    {
     "data": {
      "text/plain": [
       "[{'key1': 'sudh', 234: [23, 45, 656]},\n",
       " (234, 6657, 6),\n",
       " [345, 56, 87, 8, 98, 9],\n",
       " [23, 456, 67, 8, 78, 78],\n",
       " 7,\n",
       " 6,\n",
       " 5,\n",
       " 4,\n",
       " 3]"
      ]
     },
     "execution_count": 15,
     "metadata": {},
     "output_type": "execute_result"
    }
   ],
   "source": [
    "l[::-1]"
   ]
  },
  {
   "cell_type": "code",
   "execution_count": 17,
   "id": "2ae09884",
   "metadata": {},
   "outputs": [],
   "source": [
    "l1=l[::-1]"
   ]
  },
  {
   "cell_type": "code",
   "execution_count": 12,
   "id": "6cd63247",
   "metadata": {},
   "outputs": [],
   "source": [
    "l1.reverse()"
   ]
  },
  {
   "cell_type": "code",
   "execution_count": 18,
   "id": "6ea8529c",
   "metadata": {},
   "outputs": [
    {
     "data": {
      "text/plain": [
       "[{'key1': 'sudh', 234: [23, 45, 656]},\n",
       " (234, 6657, 6),\n",
       " [345, 56, 87, 8, 98, 9],\n",
       " [23, 456, 67, 8, 78, 78],\n",
       " 7,\n",
       " 6,\n",
       " 5,\n",
       " 4,\n",
       " 3]"
      ]
     },
     "execution_count": 18,
     "metadata": {},
     "output_type": "execute_result"
    }
   ],
   "source": [
    "l1"
   ]
  },
  {
   "cell_type": "markdown",
   "id": "e03bc787",
   "metadata": {},
   "source": [
    "2. try to access 234 out of this list "
   ]
  },
  {
   "cell_type": "code",
   "execution_count": 6,
   "id": "ca82afba",
   "metadata": {},
   "outputs": [
    {
     "data": {
      "text/plain": [
       "234"
      ]
     },
     "execution_count": 6,
     "metadata": {},
     "output_type": "execute_result"
    }
   ],
   "source": [
    "l[7][0]"
   ]
  },
  {
   "cell_type": "markdown",
   "id": "9198dcb9",
   "metadata": {},
   "source": [
    "3 . try to access 456 "
   ]
  },
  {
   "cell_type": "code",
   "execution_count": 7,
   "id": "ee68bb36",
   "metadata": {},
   "outputs": [
    {
     "data": {
      "text/plain": [
       "456"
      ]
     },
     "execution_count": 7,
     "metadata": {},
     "output_type": "execute_result"
    }
   ],
   "source": [
    "l[5][1]"
   ]
  },
  {
   "cell_type": "markdown",
   "id": "677a0e69",
   "metadata": {},
   "source": [
    "4 . Try to extract only a list collection form list l"
   ]
  },
  {
   "cell_type": "code",
   "execution_count": 27,
   "id": "89eb1438",
   "metadata": {},
   "outputs": [
    {
     "data": {
      "text/plain": [
       "([23, 456, 67, 8, 78, 78], [345, 56, 87, 8, 98, 9], [23, 45, 656])"
      ]
     },
     "execution_count": 27,
     "metadata": {},
     "output_type": "execute_result"
    }
   ],
   "source": [
    "l[5],l[6],l[8][234]"
   ]
  },
  {
   "cell_type": "markdown",
   "id": "54f4a637",
   "metadata": {},
   "source": [
    "5 . Try to extract \"sudh\""
   ]
  },
  {
   "cell_type": "code",
   "execution_count": 22,
   "id": "d1c8f0dc",
   "metadata": {},
   "outputs": [
    {
     "data": {
      "text/plain": [
       "{'key1': 'sudh', 234: [23, 45, 656]}"
      ]
     },
     "execution_count": 22,
     "metadata": {},
     "output_type": "execute_result"
    }
   ],
   "source": [
    "l[8]"
   ]
  },
  {
   "cell_type": "markdown",
   "id": "baddba1b",
   "metadata": {},
   "source": [
    "6 . Try to list all the key in dict element avaible in list "
   ]
  },
  {
   "cell_type": "code",
   "execution_count": 23,
   "id": "26286c0f",
   "metadata": {},
   "outputs": [
    {
     "data": {
      "text/plain": [
       "dict_keys(['key1', 234])"
      ]
     },
     "execution_count": 23,
     "metadata": {},
     "output_type": "execute_result"
    }
   ],
   "source": [
    "l[8].keys()"
   ]
  },
  {
   "cell_type": "markdown",
   "id": "db6eed0b",
   "metadata": {},
   "source": [
    "7 . Try to extract all the value element form dict available in list "
   ]
  },
  {
   "cell_type": "code",
   "execution_count": 25,
   "id": "52dc8dd3",
   "metadata": {},
   "outputs": [
    {
     "data": {
      "text/plain": [
       "dict_values(['sudh', [23, 45, 656]])"
      ]
     },
     "execution_count": 25,
     "metadata": {},
     "output_type": "execute_result"
    }
   ],
   "source": [
    "l[8].values()"
   ]
  },
  {
   "cell_type": "code",
   "execution_count": null,
   "id": "29c29609",
   "metadata": {},
   "outputs": [],
   "source": []
  }
 ],
 "metadata": {
  "kernelspec": {
   "display_name": "Python 3 (ipykernel)",
   "language": "python",
   "name": "python3"
  },
  "language_info": {
   "codemirror_mode": {
    "name": "ipython",
    "version": 3
   },
   "file_extension": ".py",
   "mimetype": "text/x-python",
   "name": "python",
   "nbconvert_exporter": "python",
   "pygments_lexer": "ipython3",
   "version": "3.9.7"
  }
 },
 "nbformat": 4,
 "nbformat_minor": 5
}
