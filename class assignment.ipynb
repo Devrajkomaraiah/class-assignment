{
 "cells": [
  {
   "cell_type": "code",
   "execution_count": 3,
   "id": "54d284e4",
   "metadata": {},
   "outputs": [],
   "source": [
    "s = \"this is My First Python programming class and i am learNING python string and its function\""
   ]
  },
  {
   "cell_type": "markdown",
   "id": "bbfb94a7",
   "metadata": {},
   "source": [
    "Q1. Try to extract data from index one to index 300 with a jump of 3 "
   ]
  },
  {
   "cell_type": "code",
   "execution_count": 4,
   "id": "ed5962ea",
   "metadata": {},
   "outputs": [
    {
     "data": {
      "text/plain": [
       "'h   r tnrrmglsnimeNGyosi dtfco'"
      ]
     },
     "execution_count": 4,
     "metadata": {},
     "output_type": "execute_result"
    }
   ],
   "source": [
    "s[1:300:3]"
   ]
  },
  {
   "cell_type": "markdown",
   "id": "5ddcbd1a",
   "metadata": {},
   "source": [
    "# Q2. Try to reverse a string without using reverse function"
   ]
  },
  {
   "cell_type": "code",
   "execution_count": 5,
   "id": "b78a9a21",
   "metadata": {},
   "outputs": [
    {
     "data": {
      "text/plain": [
       "'noitcnuf sti dna gnirts nohtyp GNINrael ma i dna ssalc gnimmargorp nohtyP tsriF yM si siht'"
      ]
     },
     "execution_count": 5,
     "metadata": {},
     "output_type": "execute_result"
    }
   ],
   "source": [
    "\n",
    "s[::-1]"
   ]
  },
  {
   "cell_type": "markdown",
   "id": "6cc28121",
   "metadata": {},
   "source": [
    "# Q3. Try to split a string after conversion of entire string in uppercase"
   ]
  },
  {
   "cell_type": "code",
   "execution_count": 15,
   "id": "1ce6a32e",
   "metadata": {},
   "outputs": [
    {
     "data": {
      "text/plain": [
       "'THIS IS MY FIRST PYTHON PROGRAMMING CLASS AND I AM LEARNING PYTHON STRING AND ITS FUNCTION'"
      ]
     },
     "execution_count": 15,
     "metadata": {},
     "output_type": "execute_result"
    }
   ],
   "source": [
    "s1= s.upper()\n",
    "s1"
   ]
  },
  {
   "cell_type": "code",
   "execution_count": 14,
   "id": "583026da",
   "metadata": {},
   "outputs": [
    {
     "data": {
      "text/plain": [
       "['THIS',\n",
       " 'IS',\n",
       " 'MY',\n",
       " 'FIRST',\n",
       " 'PYTHON',\n",
       " 'PROGRAMMING',\n",
       " 'CLASS',\n",
       " 'AND',\n",
       " 'I',\n",
       " 'AM',\n",
       " 'LEARNING',\n",
       " 'PYTHON',\n",
       " 'STRING',\n",
       " 'AND',\n",
       " 'ITS',\n",
       " 'FUNCTION']"
      ]
     },
     "execution_count": 14,
     "metadata": {},
     "output_type": "execute_result"
    }
   ],
   "source": [
    "s1.split( )"
   ]
  },
  {
   "cell_type": "markdown",
   "id": "82e46e23",
   "metadata": {},
   "source": [
    "# Q4. try to convert the whole string into lower case "
   ]
  },
  {
   "cell_type": "code",
   "execution_count": 10,
   "id": "7ef8cf6c",
   "metadata": {},
   "outputs": [
    {
     "data": {
      "text/plain": [
       "'this is my first python programming class and i am learning python string and its function'"
      ]
     },
     "execution_count": 10,
     "metadata": {},
     "output_type": "execute_result"
    }
   ],
   "source": [
    "s.lower()"
   ]
  },
  {
   "cell_type": "markdown",
   "id": "2ee6cdd7",
   "metadata": {},
   "source": [
    "# Q5.Try to capitalize the whole string"
   ]
  },
  {
   "cell_type": "code",
   "execution_count": 12,
   "id": "373f900b",
   "metadata": {},
   "outputs": [
    {
     "data": {
      "text/plain": [
       "'This is my first python programming class and i am learning python string and its function'"
      ]
     },
     "execution_count": 12,
     "metadata": {},
     "output_type": "execute_result"
    }
   ],
   "source": [
    "s.capitalize()"
   ]
  },
  {
   "cell_type": "markdown",
   "id": "8c138400",
   "metadata": {},
   "source": [
    "# Q6.Write a diference between isalnum() and isalpha()"
   ]
  },
  {
   "cell_type": "markdown",
   "id": "d1e786fa",
   "metadata": {},
   "source": [
    "isalnum() and isalpha() are both built in functions and they check wheather the given variable is all numeric or alphabetic and returns the bulian value i.e. true or false"
   ]
  },
  {
   "cell_type": "markdown",
   "id": "134224a6",
   "metadata": {},
   "source": [
    "# Q7. Try to give an example of expand tab"
   ]
  },
  {
   "cell_type": "code",
   "execution_count": 16,
   "id": "da602477",
   "metadata": {},
   "outputs": [],
   "source": [
    "expand_tab = \" devaraj\\t komaraian\\t NMDC Limited\""
   ]
  },
  {
   "cell_type": "code",
   "execution_count": 17,
   "id": "bb65a7a4",
   "metadata": {},
   "outputs": [
    {
     "data": {
      "text/plain": [
       "' devaraj         komaraian       NMDC Limited'"
      ]
     },
     "execution_count": 17,
     "metadata": {},
     "output_type": "execute_result"
    }
   ],
   "source": [
    "expand_tab.expandtabs()"
   ]
  },
  {
   "cell_type": "markdown",
   "id": "8b8c9a5b",
   "metadata": {},
   "source": [
    "# Q8. Give an example of strip , lstrip and rstrip"
   ]
  },
  {
   "cell_type": "code",
   "execution_count": 18,
   "id": "699124fa",
   "metadata": {},
   "outputs": [],
   "source": [
    "strip_lstrip_rstrip = \"     devaraj komaraiah        \""
   ]
  },
  {
   "cell_type": "code",
   "execution_count": 19,
   "id": "041718c5",
   "metadata": {},
   "outputs": [
    {
     "data": {
      "text/plain": [
       "'devaraj komaraiah'"
      ]
     },
     "execution_count": 19,
     "metadata": {},
     "output_type": "execute_result"
    }
   ],
   "source": [
    "strip_lstrip_rstrip.strip()"
   ]
  },
  {
   "cell_type": "code",
   "execution_count": 20,
   "id": "64a77e41",
   "metadata": {},
   "outputs": [
    {
     "data": {
      "text/plain": [
       "'devaraj komaraiah        '"
      ]
     },
     "execution_count": 20,
     "metadata": {},
     "output_type": "execute_result"
    }
   ],
   "source": [
    "strip_lstrip_rstrip.lstrip()"
   ]
  },
  {
   "cell_type": "code",
   "execution_count": 21,
   "id": "ad8769fa",
   "metadata": {},
   "outputs": [
    {
     "data": {
      "text/plain": [
       "'     devaraj komaraiah'"
      ]
     },
     "execution_count": 21,
     "metadata": {},
     "output_type": "execute_result"
    }
   ],
   "source": [
    "strip_lstrip_rstrip.rstrip()"
   ]
  },
  {
   "cell_type": "markdown",
   "id": "265f5aa2",
   "metadata": {},
   "source": [
    "the strip function removes the empty spaces on both sides of the string where as rstrip and lstrip removes the blank space from right and lest side of the string respectively."
   ]
  },
  {
   "cell_type": "markdown",
   "id": "4c24289c",
   "metadata": {},
   "source": [
    "# Q9. Replace a string charecter by another charector by taking your own example \"sudhanshu\" \n"
   ]
  },
  {
   "cell_type": "code",
   "execution_count": null,
   "id": "f43d9dbc",
   "metadata": {},
   "outputs": [],
   "source": []
  },
  {
   "cell_type": "markdown",
   "id": "285823f7",
   "metadata": {},
   "source": [
    "# Q10. Try  to give a defination of string center function with and exmple "
   ]
  },
  {
   "cell_type": "markdown",
   "id": "e1e77aad",
   "metadata": {},
   "source": [
    "string center is a inbuilt function where in the user defines the length of "
   ]
  },
  {
   "cell_type": "code",
   "execution_count": 8,
   "id": "747ce9bc",
   "metadata": {},
   "outputs": [
    {
     "data": {
      "text/plain": [
       "'@@@@@@devaraj@@@@@@@'"
      ]
     },
     "execution_count": 8,
     "metadata": {},
     "output_type": "execute_result"
    }
   ],
   "source": [
    "var_center = \"devaraj\"\n",
    "var_center.center(20)\n",
    "var_center.center(20,\"@\")"
   ]
  },
  {
   "cell_type": "markdown",
   "id": "c4c45bcf",
   "metadata": {},
   "source": [
    "center is a inbuilt method which can be used to keep the string in center as user difined requirement.The center() method will center align the string, using a specified character (space is default) as the fill character"
   ]
  },
  {
   "cell_type": "markdown",
   "id": "2862a90a",
   "metadata": {},
   "source": [
    "# Q11. Write your own definition of compiler and interpretor without copy paste form internet in your own language"
   ]
  },
  {
   "cell_type": "code",
   "execution_count": null,
   "id": "49014111",
   "metadata": {},
   "outputs": [],
   "source": []
  },
  {
   "cell_type": "markdown",
   "id": "cf0940af",
   "metadata": {},
   "source": [
    "# Q12. Python is a interpreted of compiled language give a clear ans with your understanding "
   ]
  },
  {
   "cell_type": "code",
   "execution_count": null,
   "id": "56da0d97",
   "metadata": {},
   "outputs": [],
   "source": []
  },
  {
   "cell_type": "markdown",
   "id": "f0a44a7b",
   "metadata": {},
   "source": [
    "# Q13. Try to write a usecase of python with your understanding "
   ]
  },
  {
   "cell_type": "markdown",
   "id": "04b3b536",
   "metadata": {},
   "source": [
    "python finds its application in various area of IT and intersively used in many areas like web application, data science, AI etc."
   ]
  },
  {
   "cell_type": "code",
   "execution_count": null,
   "id": "2e5afd87",
   "metadata": {},
   "outputs": [],
   "source": []
  }
 ],
 "metadata": {
  "kernelspec": {
   "display_name": "Python 3 (ipykernel)",
   "language": "python",
   "name": "python3"
  },
  "language_info": {
   "codemirror_mode": {
    "name": "ipython",
    "version": 3
   },
   "file_extension": ".py",
   "mimetype": "text/x-python",
   "name": "python",
   "nbconvert_exporter": "python",
   "pygments_lexer": "ipython3",
   "version": "3.9.7"
  }
 },
 "nbformat": 4,
 "nbformat_minor": 5
}
